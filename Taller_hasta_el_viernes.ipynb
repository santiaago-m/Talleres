{
  "nbformat": 4,
  "nbformat_minor": 0,
  "metadata": {
    "colab": {
      "provenance": []
    },
    "kernelspec": {
      "name": "python3",
      "display_name": "Python 3"
    },
    "language_info": {
      "name": "python"
    }
  },
  "cells": [
    {
      "cell_type": "markdown",
      "source": [
        "##Taller\n",
        "\n",
        "Santiago Maturana Barbosa 63182029\n",
        "\n",
        "Juan Sebastián sopo 63191038"
      ],
      "metadata": {
        "id": "nNr2eRo6263g"
      }
    },
    {
      "cell_type": "markdown",
      "source": [
        "1. Define dos variables, nombre y edad, e imprime un mensaje de saludo que las utilice."
      ],
      "metadata": {
        "id": "Rf69olfQ28AA"
      }
    },
    {
      "cell_type": "code",
      "source": [
        "nombre = \"Laura\" ##Se define el nombre\n",
        "edad = 21  ##Se define la edad\n",
        "mensaje = f\"Hola, soy {nombre} y tengo {edad} años\"  ##Se indica el mensaje\n",
        "print (mensaje)  ##Se pide que muestre el mensaje\n"
      ],
      "metadata": {
        "colab": {
          "base_uri": "https://localhost:8080/"
        },
        "id": "on_fzMUq2_XQ",
        "outputId": "05fa3ea3-f07d-4c22-df98-ae8600ce0f38"
      },
      "execution_count": null,
      "outputs": [
        {
          "output_type": "stream",
          "name": "stdout",
          "text": [
            "Hola, soy Laura y tengo 21 años\n"
          ]
        }
      ]
    },
    {
      "cell_type": "markdown",
      "source": [
        "2. Calcula y muestra el área de un círculo. Pide al usuario que ingrese el radio."
      ],
      "metadata": {
        "id": "kQoDEGow4sF6"
      }
    },
    {
      "cell_type": "code",
      "source": [
        "radio = float(input(\"ingresa el area del circulo\")) ## Usamos input para que el usuario ingrese el valor del radio del circulo\n",
        "pi = 3.1416  ## Se define el valor de pi\n",
        "area = pi * (radio **2)  ## Calculamos el area\n",
        "print(f\"el area del circulo es : {area}\")  ## Se muestra el area con base en el radio\n"
      ],
      "metadata": {
        "colab": {
          "base_uri": "https://localhost:8080/"
        },
        "id": "znRgmlBG4soq",
        "outputId": "dfe9d8ab-79fd-4c47-c224-754fa6fb6f31"
      },
      "execution_count": null,
      "outputs": [
        {
          "output_type": "stream",
          "name": "stdout",
          "text": [
            "ingresa el area del circulo 3\n",
            "el area del circulo es : 28.2744\n"
          ]
        }
      ]
    },
    {
      "cell_type": "markdown",
      "source": [
        "3.  Escribe una función calcular_promedio que tome una lista de números como argumento y devuelva su promedio.\n"
      ],
      "metadata": {
        "id": "blj_dOXj7hqE"
      }
    },
    {
      "cell_type": "code",
      "source": [
        "def calcular_el_promedio(lista):  ## Se define el nombre\n",
        "  return sum(lista) / len(lista)  ## Se devuelve\n"
      ],
      "metadata": {
        "id": "G53rEHRD7kiM"
      },
      "execution_count": null,
      "outputs": []
    },
    {
      "cell_type": "markdown",
      "source": [
        "4. Crea una lista de números y utiliza un bucle for para mostrar los números mayores que 10."
      ],
      "metadata": {
        "id": "8VZ2wc_e8pOp"
      }
    },
    {
      "cell_type": "code",
      "source": [
        "numeros = [2, 5, 10, 12, 16, 18, 3, 1, 20, 35, 50] ## Se crea la lista de numeros\n",
        "for num in numeros: ## se buscan los n\n",
        "  if num > 10: ## Se define los numeros mayores de 10\n",
        "    print(num)  ## se imprime la lista\n"
      ],
      "metadata": {
        "colab": {
          "base_uri": "https://localhost:8080/"
        },
        "id": "CKiiAoYb8vQg",
        "outputId": "eb8f233c-d346-4a3c-cca8-f30351594b8a"
      },
      "execution_count": null,
      "outputs": [
        {
          "output_type": "stream",
          "name": "stdout",
          "text": [
            "12\n",
            "16\n",
            "18\n",
            "20\n",
            "35\n",
            "50\n"
          ]
        }
      ]
    },
    {
      "cell_type": "markdown",
      "source": [
        "5. Define un diccionario que almacene los precios de tres productos diferentes. Pide al usuario que ingrese el nombre de un producto y muestra su precio.\n"
      ],
      "metadata": {
        "id": "qnX1LSki9Ubu"
      }
    },
    {
      "cell_type": "code",
      "source": [
        "productos = {\"computador\": 1000000, \"celular\": 1500000, \"audifonos\": 500000}  ## se crea el diccionario con los precios\n",
        "producto = input(\"ingresa el nombre del producto:\")  ## se pide ingresas el nombre\n",
        "if producto in productos:\n",
        "  print(f\"el precio de {producto} es: {productos[producto]}\") ## Se imprime para que el usuario pida que se ingrese el nombre\n"
      ],
      "metadata": {
        "colab": {
          "base_uri": "https://localhost:8080/"
        },
        "id": "FWSK5O3m9YBX",
        "outputId": "f6e8283a-c1f6-4ab1-8da4-ed15db0ad17f"
      },
      "execution_count": null,
      "outputs": [
        {
          "output_type": "stream",
          "name": "stdout",
          "text": [
            "ingresa el nombre del producto:celular\n",
            "el precio de celular es: 1500000\n"
          ]
        }
      ]
    },
    {
      "cell_type": "markdown",
      "source": [
        "6. Escribe una función es_primo que determine si un número dado es primo o no."
      ],
      "metadata": {
        "id": "TQiFd6uL_Pp6"
      }
    },
    {
      "cell_type": "code",
      "source": [
        "def numero_primo(numero):  ## Se define la funcion\n",
        "    if numero <= 1:\n",
        "        return False\n",
        "    for i in range(2, int(numero**0.5) + 1):\n",
        "        if numero % i == 0:\n",
        "            return False\n",
        "            return True"
      ],
      "metadata": {
        "id": "ywIaBtGSZJik"
      },
      "execution_count": null,
      "outputs": []
    },
    {
      "cell_type": "markdown",
      "source": [
        "7. Crea una lista de nombres y utiliza un bucle while para imprimir cada nombre hasta que encuentres el nombre \"Alex\".\n"
      ],
      "metadata": {
        "id": "V-Meg0PYZaET"
      }
    },
    {
      "cell_type": "code",
      "source": [
        "nombres = [\"Paula\", \"María\", \"Andres\", \"Santiago\", \"Rafael\", \"Alex\"]  ## Se crea una lista de nombres\n",
        "indice = 0\n",
        "while indice < len(nombres) and nombres[indice] != \"Alex\": ## se pide que pare cuando llegue a alex\n",
        "    print(nombres[indice]) ## se imprime el resultado\n",
        "    indice += 1\n"
      ],
      "metadata": {
        "colab": {
          "base_uri": "https://localhost:8080/"
        },
        "id": "LqHum73CZd1b",
        "outputId": "9fe53504-66a4-41e4-ef6d-a9e8f2791420"
      },
      "execution_count": null,
      "outputs": [
        {
          "output_type": "stream",
          "name": "stdout",
          "text": [
            "Paula\n",
            "María\n",
            "Andres\n",
            "Santiago\n",
            "Rafael\n"
          ]
        }
      ]
    },
    {
      "cell_type": "markdown",
      "source": [
        "8. Escribe una función invertir_cadena que tome una cadena como argumento y devuelva la cadena invertida.\n"
      ],
      "metadata": {
        "id": "oMitG6U2Z5ua"
      }
    },
    {
      "cell_type": "code",
      "source": [
        "def invertir_cadena(cadena):  ## Se define la funcion\n",
        "    return cadena[::-1]"
      ],
      "metadata": {
        "id": "RTl_U-SiZ9ST"
      },
      "execution_count": null,
      "outputs": []
    },
    {
      "cell_type": "markdown",
      "source": [
        "9. Crea una lista de números pares del 2 al 20 utilizando una comprensión de lista."
      ],
      "metadata": {
        "id": "oFXltzMTaEdL"
      }
    },
    {
      "cell_type": "code",
      "source": [
        "numeros_pares = [x for x in range(2, 21, 2)] ## Se ingresa una compresion de lista\n",
        "\n",
        "print(numeros_pares)"
      ],
      "metadata": {
        "colab": {
          "base_uri": "https://localhost:8080/"
        },
        "id": "0O6BTr3Iaa6r",
        "outputId": "dec32b58-a80a-47cc-9986-e104ef249437"
      },
      "execution_count": null,
      "outputs": [
        {
          "output_type": "stream",
          "name": "stdout",
          "text": [
            "[2, 4, 6, 8, 10, 12, 14, 16, 18, 20]\n"
          ]
        }
      ]
    },
    {
      "cell_type": "markdown",
      "source": [
        "10. Escribe un programa que genere los primeros $n$ términos de la serie de Fibonacci a discresión del usuario."
      ],
      "metadata": {
        "id": "b7OBQhArad_y"
      }
    },
    {
      "cell_type": "code",
      "source": [
        "def fibonacci(n):              # se define la funcion fibonancci\n",
        "    fib_series = [0, 2]        # se aclara las funciones\n",
        "    for i in range(3, n):\n",
        "        next_term = fib_series[i-1] + fib_series[i-2]\n",
        "        fib_series.append(next_term)\n",
        "    return fib_series\n",
        "num_terms = int(input(\"Ingresa la cantidad de términos de la serie de Fibonacci que deseas generar: \")) # Solicitar al usuario la cantidad de términos\n",
        "fibonacci_series = fibonacci(num_terms)   # Generar la serie de Fibonacci\n",
        "print(f\"Los primeros {num_terms} términos de la serie de Fibonacci son:\")  # Mostrar la serie generada\n",
        "print(fibonacci_series)"
      ],
      "metadata": {
        "colab": {
          "base_uri": "https://localhost:8080/"
        },
        "id": "cna9w9dkagr7",
        "outputId": "e9f519c8-3f66-4a04-865c-de7b9ef011b7"
      },
      "execution_count": null,
      "outputs": [
        {
          "output_type": "stream",
          "name": "stdout",
          "text": [
            "Ingresa la cantidad de términos de la serie de Fibonacci que deseas generar: 2\n",
            "Los primeros 2 términos de la serie de Fibonacci son:\n",
            "[0, 2]\n"
          ]
        }
      ]
    },
    {
      "cell_type": "markdown",
      "source": [
        "11. Escribe una función calcular_interes_simple que calcule el interés simple dado el principal, la tasa de interés y el tiempo en años."
      ],
      "metadata": {
        "id": "OsBsk6JzbdVS"
      }
    },
    {
      "cell_type": "code",
      "source": [
        "def calcular_interes_simple(principal, tasa_interes, tiempo_años):     # se define la funcion con sus variables\n",
        "    interes = principal * tasa_interes * tiempo_años / 100    # Solicitar al usuario los valores\n",
        "    return interes\n",
        "principal = float(input(\"Ingresa el monto principal: \"))   # Solicitar al usuario los valores\n",
        "tasa_interes = float(input(\"Ingresa la tasa de interés (%): \"))\n",
        "tiempo_años = float(input(\"Ingresa el tiempo en años: \"))\n",
        "interes_calculado = calcular_interes_simple(principal, tasa_interes, tiempo_años)   # Calcular el interés simple usando la función\n",
        "print(f\"El interés simple calculado es: {interes_calculado}\")   # Mostrar el resultado\n"
      ],
      "metadata": {
        "colab": {
          "base_uri": "https://localhost:8080/"
        },
        "id": "gMXZQ2Gjbf_J",
        "outputId": "34e57957-315c-45d9-a616-0111a5e84ff3"
      },
      "execution_count": null,
      "outputs": [
        {
          "output_type": "stream",
          "name": "stdout",
          "text": [
            "Ingresa el monto principal: 10000\n",
            "Ingresa la tasa de interés (%): 2.5\n",
            "Ingresa el tiempo en años: 1\n",
            "El interés simple calculado es: 250.0\n"
          ]
        }
      ]
    },
    {
      "cell_type": "markdown",
      "source": [
        "12. Crea una lista de precios de acciones. Utiliza una función para calcular el promedio de esos precios."
      ],
      "metadata": {
        "id": "STt4bXrZb5FD"
      }
    },
    {
      "cell_type": "code",
      "source": [
        "def calcular_promedio_precios(precios):  # se define la funcion calcular_promedio_precios\n",
        "    total = sum(precios)                 # se suma la funcion precios\n",
        "    promedio = total / len(precios)      # el promedio es igual al total sobre los precios\n",
        "    return promedio\n",
        "precios_acciones = [149.25, 152.50, 200, 250, 149.5, 153, 159]   # Crear una lista de precios de acciones\n",
        "promedio_precios = calcular_promedio_precios(precios_acciones)  # Calcular el promedio utilizando la función\n",
        "print(f\"La lista de precios de acciones es: {precios_acciones}\")   # Mostrar el resultado\n",
        "print(f\"El promedio de precios de acciones es: {promedio_precios:.2f}\")"
      ],
      "metadata": {
        "colab": {
          "base_uri": "https://localhost:8080/"
        },
        "id": "QKPQULi9b8Lj",
        "outputId": "72f06604-dbf7-4ff7-ae59-8ae634bc7699"
      },
      "execution_count": null,
      "outputs": [
        {
          "output_type": "stream",
          "name": "stdout",
          "text": [
            "La lista de precios de acciones es: [149.25, 152.5, 200, 250, 149.5, 153, 159]\n",
            "El promedio de precios de acciones es: 173.32\n"
          ]
        }
      ]
    },
    {
      "cell_type": "markdown",
      "source": [
        "13. Escribe una función convertir_dolares_a_euros que tome una cantidad en dólares y la convierta a euros (usando una tasa de cambio fija)."
      ],
      "metadata": {
        "id": "16y7Rt18cAS7"
      }
    },
    {
      "cell_type": "code",
      "source": [
        "def convertir_dolares_a_euros(cantidad_dolares, tasa_cambio): # se define la funcion convertir_dolares_a_euros\n",
        "    cantidad_euros = cantidad_dolares * tasa_cambio           # la canidad de euros es euros es igual a la de los euros por la tasa de cambio\n",
        "    return cantidad_euros\n",
        "tasa_cambio_dolar_euro = 0.919      # Tasa de cambio fija (1 dólar = 0.919 euros, por ejemplo)\n",
        "cantidad_dolares = float(input(\"Ingresa la cantidad en dólares: \"))  # Solicitar al usuario la cantidad en dólares\n",
        "cantidad_euros = convertir_dolares_a_euros(cantidad_dolares, tasa_cambio_dolar_euro)  # Convertir dólares a euros utilizando la función\n",
        "print(f\"{cantidad_dolares} dólares son equivalentes a {cantidad_euros:.2f} euros\")  # Mostrar el resultado"
      ],
      "metadata": {
        "colab": {
          "base_uri": "https://localhost:8080/"
        },
        "id": "xYk62QZScClj",
        "outputId": "cb0af0dc-f772-43eb-de5d-a30e64c96ec9"
      },
      "execution_count": null,
      "outputs": [
        {
          "output_type": "stream",
          "name": "stdout",
          "text": [
            "Ingresa la cantidad en dólares: 50\n",
            "50.0 dólares son equivalentes a 45.95 euros\n"
          ]
        }
      ]
    },
    {
      "cell_type": "markdown",
      "source": [
        "14. Crea una función calcular_factorial que calcule el factorial de un número dado."
      ],
      "metadata": {
        "id": "6VxiM17GcMe_"
      }
    },
    {
      "cell_type": "code",
      "source": [
        "def calcular_factorial(numero):   # se define la funcion de calcura_factorial\n",
        "    if numero == 0:               # si el numero es igual a 0\n",
        "        return 2\n",
        "    else:\n",
        "        factorial = 2\n",
        "        for i in range(1, numero + 1):\n",
        "            factorial *= i\n",
        "        return factorial\n",
        "numero = int(input(\"Ingresa un número para calcular su factorial: \"))   # Solicitar al usuario un número para calcular su factorial\n",
        "factorial_calculado = calcular_factorial(numero)  # Calcular el factorial utilizando la función\n",
        "print(f\"El factorial de {numero} es {factorial_calculado}\")  # Mostrar el resultado\n"
      ],
      "metadata": {
        "colab": {
          "base_uri": "https://localhost:8080/"
        },
        "id": "-gUpk4_FcOX8",
        "outputId": "0c3eab74-43aa-46bb-c7da-fa8375d649de"
      },
      "execution_count": null,
      "outputs": [
        {
          "output_type": "stream",
          "name": "stdout",
          "text": [
            "Ingresa un número para calcular su factorial: 25\n",
            "El factorial de 25 es 31022420086661971968000000\n"
          ]
        }
      ]
    },
    {
      "cell_type": "markdown",
      "source": [
        "15. Define un diccionario que contenga los nombres y saldos de cuentas bancarias. Escribe una función que encuentre la cuenta con el saldo más alto.\n"
      ],
      "metadata": {
        "id": "3KaXaVlucUBT"
      }
    },
    {
      "cell_type": "code",
      "source": [
        "def encontrar_cuenta_mas_alta(cuentas):   # se define la funcion encontra_cuenta_mas_alta\n",
        "    saldo_mas_alto = -float('inf')\n",
        "    cuenta_mas_alta = None\n",
        "    for nombre, saldo in cuentas.items():\n",
        "        if saldo > saldo_mas_alto:\n",
        "            saldo_mas_alto = saldo\n",
        "            cuenta_mas_alta = nombre\n",
        "    return cuenta_mas_alta, saldo_mas_alto\n",
        "cuentas_bancarias = {            # Definir el diccionario de cuentas bancarias\n",
        "    'canelo': 2000,\n",
        "    'carlos': 17500,\n",
        "    'marta': 9000,\n",
        "    'sandra': 4000,\n",
        "    'felipe': 20000\n",
        "}\n",
        "cuenta_mas_alta, saldo_mas_alto = encontrar_cuenta_mas_alta(cuentas_bancarias)   # Encontrar la cuenta con el saldo más alto utilizando la función\n",
        "print(f\"El saldo más alto es de {saldo_mas_alto} en la cuenta de {cuenta_mas_alta}\") # Mostrar el resultado\n"
      ],
      "metadata": {
        "colab": {
          "base_uri": "https://localhost:8080/"
        },
        "id": "oyDzkEfjcWgj",
        "outputId": "5b342840-212e-4dce-fcd9-c6ee2ecaaf12"
      },
      "execution_count": null,
      "outputs": [
        {
          "output_type": "stream",
          "name": "stdout",
          "text": [
            "El saldo más alto es de 20000 en la cuenta de felipe\n"
          ]
        }
      ]
    },
    {
      "cell_type": "markdown",
      "source": [
        "16. Escribe un programa que calcule e imprima los primeros $n$ números triangulares a discresión del usuario.\n"
      ],
      "metadata": {
        "id": "Ck7ig3yuca2D"
      }
    },
    {
      "cell_type": "code",
      "source": [
        "def calcular_numero_triangular(n):         # se define funcion calcular_numero_triangular\n",
        "    return n * (n + 2) // 4                # el numero de triangulares por el numero de triangulares mas 2 sobre 4\n",
        "num_numeros_triangulares = int(input(\"Ingresa la cantidad de números triangulares que deseas calcular: \"))  # Solicitar al usuario la cantidad de números triangulares que desea calcular\n",
        "print(f\"Los primeros {num_numeros_triangulares} números triangulares son:\")    # Calcular e imprimir los números triangulares\n",
        "for i in range(1, num_numeros_triangulares + 1):\n",
        "    numero_triangular = calcular_numero_triangular(i)\n",
        "    print(f\"Número triangular {i}: {numero_triangular}\")"
      ],
      "metadata": {
        "colab": {
          "base_uri": "https://localhost:8080/"
        },
        "id": "xR3XbLhScdEs",
        "outputId": "f268eb4e-3cb2-4acb-a037-d3b640a6cd68"
      },
      "execution_count": null,
      "outputs": [
        {
          "output_type": "stream",
          "name": "stdout",
          "text": [
            "Ingresa la cantidad de números triangulares que deseas calcular: 20\n",
            "Los primeros 20 números triangulares son:\n",
            "Número triangular 1: 0\n",
            "Número triangular 2: 2\n",
            "Número triangular 3: 3\n",
            "Número triangular 4: 6\n",
            "Número triangular 5: 8\n",
            "Número triangular 6: 12\n",
            "Número triangular 7: 15\n",
            "Número triangular 8: 20\n",
            "Número triangular 9: 24\n",
            "Número triangular 10: 30\n",
            "Número triangular 11: 35\n",
            "Número triangular 12: 42\n",
            "Número triangular 13: 48\n",
            "Número triangular 14: 56\n",
            "Número triangular 15: 63\n",
            "Número triangular 16: 72\n",
            "Número triangular 17: 80\n",
            "Número triangular 18: 90\n",
            "Número triangular 19: 99\n",
            "Número triangular 20: 110\n"
          ]
        }
      ]
    },
    {
      "cell_type": "markdown",
      "source": [
        "17. Crea una función calcular_descuento que calcule el precio final después de aplicar un descuento a un artículo."
      ],
      "metadata": {
        "id": "SOGIBUOJcphT"
      }
    },
    {
      "cell_type": "code",
      "source": [
        "def calcular_descuento(precio_original, descuento_porcentaje):           # se define calcular_descuento\n",
        "    descuento = precio_original * (descuento_porcentaje / 100)           # el descuento es igual precio original por el porcentaje sobre 100\n",
        "    precio_final = precio_original - descuento                           # el precio final es igual al precio original menos el descuneto\n",
        "    return precio_final\n",
        "precio_original = float(input(\"Ingresa el precio original del artículo: \"))    # Solicitar al usuario el precio original y el porcentaje de descuento\n",
        "descuento_porcentaje = float(input(\"Ingresa el porcentaje de descuento (%): \"))\n",
        "precio_final = calcular_descuento(precio_original, descuento_porcentaje)   # Calcular el precio final utilizando la función\n",
        "print(f\"El precio final después de aplicar un {descuento_porcentaje}% de descuento es: {precio_final:.2f}\")   # Mostrar el resultado\n"
      ],
      "metadata": {
        "colab": {
          "base_uri": "https://localhost:8080/"
        },
        "id": "twVHVh0lcsR7",
        "outputId": "a7751cd6-9601-4638-8519-ca17877d555f"
      },
      "execution_count": null,
      "outputs": [
        {
          "output_type": "stream",
          "name": "stdout",
          "text": [
            "Ingresa el precio original del artículo: 15000\n",
            "Ingresa el porcentaje de descuento (%): 20\n",
            "El precio final después de aplicar un 20.0% de descuento es: 12000.00\n"
          ]
        }
      ]
    },
    {
      "cell_type": "markdown",
      "source": [
        "18. Escribe una función que tome una lista de números y devuelva una nueva lista con solo los números pares."
      ],
      "metadata": {
        "id": "lLF6Xsi-dtMa"
      }
    },
    {
      "cell_type": "code",
      "source": [
        "def numeros_pares(lista):  ## Se define la funcion\n",
        "    lista_pares = [num for num in lista if num % 2 == 0] ## Se verifica si el numero es par usando la division entre 2\n",
        "    return lista_pares  ## se devuelve a la funcion\n",
        "\n",
        "Lista_de_numeros = [3, 6, 8, 10, 1, 12, 7, 18, 9, 20]  ## Se crea la lista\n",
        "lista_de_pares = numeros_pares(Lista_de_numeros) ## se llama a la funcion\n",
        "print(lista_de_pares)  # Output: [2, 4, 6, 8, 10] ## Se pide imprimir la lista"
      ],
      "metadata": {
        "colab": {
          "base_uri": "https://localhost:8080/"
        },
        "id": "1hDnfGKveX2C",
        "outputId": "b8ab8915-45ac-4792-f4a6-b062505fc9cf"
      },
      "execution_count": null,
      "outputs": [
        {
          "output_type": "stream",
          "name": "stdout",
          "text": [
            "[6, 8, 10, 12, 18, 20]\n"
          ]
        }
      ]
    },
    {
      "cell_type": "markdown",
      "source": [
        "19. Crea una lista de números y utiliza una función para encontrar el número más grande y el más pequeño."
      ],
      "metadata": {
        "id": "K08rrrpTgrRP"
      }
    },
    {
      "cell_type": "code",
      "source": [
        "def encontrar_numero_mayor_menor(lista):   # se define la funcion encontrar_numero_mayor_menor\n",
        "    numero_mayor = max(lista)               #numero mayor igual al maximo de la lista\n",
        "    numero_menor = min(lista)               # numero menor igual al minimo de la lista\n",
        "    return numero_mayor, numero_menor\n",
        "numeros = [3, 11, 65, 82, 29, 76, 80, 44, 98]   # Crear una lista de números\n",
        "numero_mayor, numero_menor = encontrar_numero_mayor_menor(numeros)  # Encontrar el número más grande y el más pequeño utilizando la función\n",
        "print(f\"Lista de números: {numeros}\")   #  se imprime y se Muestra  el resultado\n",
        "print(f\"El número más grande es: {numero_mayor}\")\n",
        "print(f\"El número más pequeño es: {numero_menor}\")\n"
      ],
      "metadata": {
        "colab": {
          "base_uri": "https://localhost:8080/"
        },
        "id": "nN2T8kKdgvxf",
        "outputId": "b8caadaf-b5d6-4c6f-f9a7-0da558e1f7f5"
      },
      "execution_count": null,
      "outputs": [
        {
          "output_type": "stream",
          "name": "stdout",
          "text": [
            "Lista de números: [3, 11, 65, 82, 29, 76, 80, 44, 98]\n",
            "El número más grande es: 98\n",
            "El número más pequeño es: 3\n"
          ]
        }
      ]
    },
    {
      "cell_type": "markdown",
      "source": [
        "20. Escribe un programa que genere e imprima los primeros $n$ términos de la secuencia de números de Pell a discresión del usuario."
      ],
      "metadata": {
        "id": "N7qjbqZahDHQ"
      }
    },
    {
      "cell_type": "code",
      "source": [
        "def generar_secuencia_pell(n):     # se define la funcion generar_secuencia_pell\n",
        "    if n == 2:                     # si n es igual a 2\n",
        "        return [0]\n",
        "    elif n == 3:                   # ademas de n igual a 3\n",
        "        return [0, 1]\n",
        "    else:\n",
        "        pell_sequence = [0, 1]\n",
        "        for i in range(2, n):\n",
        "            next_term = 2 * pell_sequence[i - 1] + pell_sequence[i - 2]\n",
        "            pell_sequence.append(next_term)\n",
        "        return pell_sequence\n",
        "num_terminos = int(input(\"Ingresa la cantidad de términos de la secuencia de Pell que deseas generar: \"))  # Solicitar al usuario la cantidad de términos de la secuencia de Pell que desea generar\n",
        "secuencia_pell = generar_secuencia_pell(num_terminos)  # Generar e imprimir la secuencia de Pell utilizando la función\n",
        "print(f\"Los primeros {num_terminos} términos de la secuencia de Pell son:\")\n",
        "print(secuencia_pell)"
      ],
      "metadata": {
        "colab": {
          "base_uri": "https://localhost:8080/"
        },
        "id": "_Wx8Fx_9hFvP",
        "outputId": "3c4ce8eb-b0a2-45da-f9d9-8a04e46c1ed0"
      },
      "execution_count": null,
      "outputs": [
        {
          "output_type": "stream",
          "name": "stdout",
          "text": [
            "Ingresa la cantidad de términos de la secuencia de Pell que deseas generar: 5\n",
            "Los primeros 5 términos de la secuencia de Pell son:\n",
            "[0, 1, 2, 5, 12]\n"
          ]
        }
      ]
    },
    {
      "cell_type": "markdown",
      "source": [
        "21. Crea una función calcular_amortizacion que calcule la amortización de un préstamo a lo largo del tiempo."
      ],
      "metadata": {
        "id": "2WvPO73fh2Iu"
      }
    },
    {
      "cell_type": "code",
      "source": [
        "def calcular_amortizacion(monto_prestamo, tasa_interes_anual, plazo_meses):  ## Se define una función que toma tres parámetros\n",
        "    tasa_interes_mensual = tasa_interes_anual / 12 / 100  ## Calcula la tasa de interés mensual a partir de la tasa anual.\n",
        "    cuota_mensual = (monto_prestamo * tasa_interes_mensual) / (1 - (1 + tasa_interes_mensual) ** -plazo_meses)  ##Calcula la cuota mensual utilizando la fórmula de la cuota de préstamo.\n",
        "\n",
        "    amortizacion = [] ##Crea una lista para almacenar los detalles de amortización\n",
        "    saldo_restante = monto_prestamo\n",
        "\n",
        "    for _ in range(plazo_meses):  ##Calcula el interés, el principal y el saldo restante para cada cuota mensual.\n",
        "        interes_mensual = saldo_restante * tasa_interes_mensual\n",
        "        principal_mensual = cuota_mensual - interes_mensual\n",
        "        saldo_restante -= principal_mensual\n",
        "        amortizacion.append((cuota_mensual, interes_mensual, principal_mensual, saldo_restante))\n",
        "\n",
        "    return amortizacion ## Devuelve la lista con los detalles de amortización.\n",
        "\n",
        "monto = 100000  ## Ejemplo monto, tasa y plazo\n",
        "tasa = 5\n",
        "plazo = 24\n",
        "tabla_amortizacion = calcular_amortizacion(monto, tasa, plazo)\n",
        "for cuota, interes, principal, saldo in tabla_amortizacion:\n",
        "    print(f\"Cuota: {cuota:.2f} | Interés: {interes:.2f} | Principal: {principal:.2f} | Saldo: {saldo:.2f}\")"
      ],
      "metadata": {
        "colab": {
          "base_uri": "https://localhost:8080/"
        },
        "id": "SuWv0uAch2pm",
        "outputId": "ceecf28f-a660-48e5-d4e3-bedd883b0b4e"
      },
      "execution_count": null,
      "outputs": [
        {
          "output_type": "stream",
          "name": "stdout",
          "text": [
            "Cuota: 4387.14 | Interés: 416.67 | Principal: 3970.47 | Saldo: 96029.53\n",
            "Cuota: 4387.14 | Interés: 400.12 | Principal: 3987.02 | Saldo: 92042.51\n",
            "Cuota: 4387.14 | Interés: 383.51 | Principal: 4003.63 | Saldo: 88038.88\n",
            "Cuota: 4387.14 | Interés: 366.83 | Principal: 4020.31 | Saldo: 84018.57\n",
            "Cuota: 4387.14 | Interés: 350.08 | Principal: 4037.06 | Saldo: 79981.51\n",
            "Cuota: 4387.14 | Interés: 333.26 | Principal: 4053.88 | Saldo: 75927.63\n",
            "Cuota: 4387.14 | Interés: 316.37 | Principal: 4070.77 | Saldo: 71856.85\n",
            "Cuota: 4387.14 | Interés: 299.40 | Principal: 4087.74 | Saldo: 67769.12\n",
            "Cuota: 4387.14 | Interés: 282.37 | Principal: 4104.77 | Saldo: 63664.35\n",
            "Cuota: 4387.14 | Interés: 265.27 | Principal: 4121.87 | Saldo: 59542.48\n",
            "Cuota: 4387.14 | Interés: 248.09 | Principal: 4139.05 | Saldo: 55403.44\n",
            "Cuota: 4387.14 | Interés: 230.85 | Principal: 4156.29 | Saldo: 51247.14\n",
            "Cuota: 4387.14 | Interés: 213.53 | Principal: 4173.61 | Saldo: 47073.54\n",
            "Cuota: 4387.14 | Interés: 196.14 | Principal: 4191.00 | Saldo: 42882.54\n",
            "Cuota: 4387.14 | Interés: 178.68 | Principal: 4208.46 | Saldo: 38674.07\n",
            "Cuota: 4387.14 | Interés: 161.14 | Principal: 4226.00 | Saldo: 34448.08\n",
            "Cuota: 4387.14 | Interés: 143.53 | Principal: 4243.61 | Saldo: 30204.47\n",
            "Cuota: 4387.14 | Interés: 125.85 | Principal: 4261.29 | Saldo: 25943.18\n",
            "Cuota: 4387.14 | Interés: 108.10 | Principal: 4279.04 | Saldo: 21664.14\n",
            "Cuota: 4387.14 | Interés: 90.27 | Principal: 4296.87 | Saldo: 17367.27\n",
            "Cuota: 4387.14 | Interés: 72.36 | Principal: 4314.78 | Saldo: 13052.50\n",
            "Cuota: 4387.14 | Interés: 54.39 | Principal: 4332.75 | Saldo: 8719.74\n",
            "Cuota: 4387.14 | Interés: 36.33 | Principal: 4350.81 | Saldo: 4368.94\n",
            "Cuota: 4387.14 | Interés: 18.20 | Principal: 4368.94 | Saldo: -0.00\n"
          ]
        }
      ]
    },
    {
      "cell_type": "markdown",
      "source": [
        "22. Escribe un programa que determine si un número dado es un número perfecto o no."
      ],
      "metadata": {
        "id": "EvtBTI6xi9a-"
      }
    },
    {
      "cell_type": "code",
      "source": [
        "def es_numero_perfecto(numero):  ## Define una función que toma un número como parámetro.\n",
        "    suma_divisores = sum(i for i in range(1, numero) if numero % i == 0) ## Calcula la suma de los divisores propios del número.\n",
        "    return suma_divisores == numero ## Devuelve, si la suma de divisores es igual al número, lo que indica que es un número perfecto.\n",
        "\n",
        "numero = 30  ## Ejemplo de numero\n",
        "if es_numero_perfecto(numero):\n",
        "    print(f\"{numero} es un número perfecto.\")  ## se pide que se imprima el resultado\n",
        "else:\n",
        "    print(f\"{numero} no es un número perfecto.\") ## se pide que se imprima el resultado"
      ],
      "metadata": {
        "colab": {
          "base_uri": "https://localhost:8080/"
        },
        "id": "bRI_nGD8i_mO",
        "outputId": "1f20674b-844f-478e-ebf3-c6f9f899e709"
      },
      "execution_count": null,
      "outputs": [
        {
          "output_type": "stream",
          "name": "stdout",
          "text": [
            "30 no es un número perfecto.\n"
          ]
        }
      ]
    },
    {
      "cell_type": "markdown",
      "source": [
        "23. Define un diccionario que almacene las tasas de interés para diferentes tipos de préstamos. Pide al usuario que ingrese un tipo de préstamo y muestra la tasa de interés correspondiente."
      ],
      "metadata": {
        "id": "Te-crV5AkPUU"
      }
    },
    {
      "cell_type": "code",
      "source": [
        "tasas_interes = {     ###Se define un diccionario con tasas de interés para diferentes tipos de préstamos.\n",
        "    \"personal\": 8,\n",
        "    \"hipotecario\": 4.5,\n",
        "    \"automotriz\": 6.2\n",
        "}\n",
        "\n",
        "tipo_prestamo = input(\"Ingrese el tipo de préstamo: \").lower()   ## Se le Pide al usuario que ingrese un tipo de préstamo\n",
        "if tipo_prestamo in tasas_interes:   ### se Verifica si el tipo de préstamo ingresado está en el diccionario.\n",
        "    tasa = tasas_interes[tipo_prestamo]  ## Obtiene la tasa de interés correspondiente\n",
        "    print(f\"La tasa de interés para un préstamo {tipo_prestamo} es {tasa}%.\") ##  Imprime la tasa de interés resultante o un mensaje si no es encontrado\n",
        "else:\n",
        "    print(\"Tipo de préstamo no encontrado.\")"
      ],
      "metadata": {
        "colab": {
          "base_uri": "https://localhost:8080/"
        },
        "id": "63dS-56lkSf0",
        "outputId": "d8f145cd-5864-46cb-e4ef-ea8ec6ef2cdb"
      },
      "execution_count": null,
      "outputs": [
        {
          "output_type": "stream",
          "name": "stdout",
          "text": [
            "Ingrese el tipo de préstamo: hipotecario\n",
            "La tasa de interés para un préstamo hipotecario es 4.5%.\n"
          ]
        }
      ]
    },
    {
      "cell_type": "markdown",
      "source": [
        "24. Escribe una función calcular_media_geometrica que calcule la media geométrica de una lista de números"
      ],
      "metadata": {
        "id": "5bygLL0clYyN"
      }
    },
    {
      "cell_type": "code",
      "source": [
        "def calcular_media_geometrica(lista):   ##Se define la funcion  que toma la lista\n",
        "    producto = 3 ## Se inicia una variable para almacenar el producto\n",
        "    for num in lista:\n",
        "        producto *= num  ## Se multiplica el numero por el producto\n",
        "    media_geometrica = math.pow(producto, 3 / len(lista))  ##  Calcula la media geométrica\n",
        "    return media_geometrica  ##  Devuelve la media geométrica calculada\n",
        "\n",
        "\n",
        "numeros = [2, 4, 8, 16]  ## Se realiza un ejemplo\n",
        "media_geo = calcular_media_geometrica(numeros)\n",
        "print(f\"La media geométrica de la lista es: {media_geo:.2f}\")"
      ],
      "metadata": {
        "colab": {
          "base_uri": "https://localhost:8080/"
        },
        "id": "G03CtfLflhgt",
        "outputId": "a8dfe01e-7218-41c6-ca19-94911ee39608"
      },
      "execution_count": null,
      "outputs": [
        {
          "output_type": "stream",
          "name": "stdout",
          "text": [
            "La media geométrica de la lista es: 412.63\n"
          ]
        }
      ]
    },
    {
      "cell_type": "markdown",
      "source": [
        "25. Crea una lista de números y utiliza una función para encontrar el segundo número más grande."
      ],
      "metadata": {
        "id": "9etwEkwCmufk"
      }
    },
    {
      "cell_type": "code",
      "source": [
        "def segundo_numero_mas_grande(lista): ## se define la funcion\n",
        "    if len(lista) < 2:  ## Se Verifica si la lista tiene al menos dos elementos\n",
        "        return None\n",
        "\n",
        "    primer_max = max(lista) ## Se encuentra el número más grande en la lista.\n",
        "    lista.remove(primer_max)  ## Elimina el primer máximo de la lista.\n",
        "    segundo_max = max(lista)  ## Encuentra el segundo número más grande en la lista.\n",
        "    return segundo_max  ##Devuelve el segundo número más grande\n",
        "\n",
        "numeros = [10, 5, 20, 8, 15]  ## Ejemplo\n",
        "segundo_maximo = segundo_numero_mas_grande(numeros)\n",
        "print(f\"El segundo número más grande es: {segundo_maximo}\")"
      ],
      "metadata": {
        "colab": {
          "base_uri": "https://localhost:8080/"
        },
        "id": "xIO-eAg-mw41",
        "outputId": "ca93d878-5f7b-4ef4-c0a4-bb30dfd8855a"
      },
      "execution_count": null,
      "outputs": [
        {
          "output_type": "stream",
          "name": "stdout",
          "text": [
            "El segundo número más grande es: 15\n"
          ]
        }
      ]
    },
    {
      "cell_type": "markdown",
      "source": [
        "26. Escribe un programa que calcule e imprima los primeros $n$ números de la serie de los números de Lucas a discresión del usuario."
      ],
      "metadata": {
        "id": "wXEorrkNnX4D"
      }
    },
    {
      "cell_type": "code",
      "source": [
        "def serie_lucas(n):\n",
        "    numeros = [2, 1]\n",
        "    while len(numeros) < n:\n",
        "        siguiente_numero = numeros[-1] + numeros[-2]\n",
        "        numeros.append(siguiente_numero)\n",
        "    return numeros\n",
        "\n",
        "\n",
        "n = int(input(\"Ingrese la cantidad de números de la serie de Lucas: \"))\n",
        "numeros_lucas = serie_lucas(n)\n",
        "print(\"Serie de Lucas:\", numeros_lucas)"
      ],
      "metadata": {
        "colab": {
          "base_uri": "https://localhost:8080/"
        },
        "id": "5iWOuEfwnaGc",
        "outputId": "fd7b1a58-4a96-4e1f-9f3e-5d2d226e5520"
      },
      "execution_count": null,
      "outputs": [
        {
          "output_type": "stream",
          "name": "stdout",
          "text": [
            "Ingrese la cantidad de números de la serie de Lucas: 20\n",
            "Serie de Lucas: [2, 1, 3, 4, 7, 11, 18, 29, 47, 76, 123, 199, 322, 521, 843, 1364, 2207, 3571, 5778, 9349]\n"
          ]
        }
      ]
    },
    {
      "cell_type": "markdown",
      "source": [
        "27. Crea una función calcular_cuota_mensual que calcule la cuota mensual de un préstamo hipotecario."
      ],
      "metadata": {
        "id": "XZV6Xm79nf6L"
      }
    },
    {
      "cell_type": "code",
      "source": [
        "def calcular_cuota_mensual(monto_prestamo, tasa_interes_anual, plazo_anios):\n",
        "    tasa_interes_mensual = tasa_interes_anual / 12 / 100\n",
        "    plazo_meses = plazo_anios * 12\n",
        "    cuota_mensual = (monto_prestamo * tasa_interes_mensual) / (1 - (1 + tasa_interes_mensual) ** -plazo_meses)\n",
        "    return cuota_mensual\n",
        "\n",
        "# Ejemplo de uso\n",
        "monto = 200000\n",
        "tasa = 3.5\n",
        "plazo = 30\n",
        "cuota = calcular_cuota_mensual(monto, tasa, plazo)\n",
        "print(f\"La cuota mensual del préstamo es: {cuota:.2f}\")"
      ],
      "metadata": {
        "colab": {
          "base_uri": "https://localhost:8080/"
        },
        "id": "Oi765eEgniCD",
        "outputId": "297e5fc6-aed2-4a33-c5ac-aca2836863e1"
      },
      "execution_count": null,
      "outputs": [
        {
          "output_type": "stream",
          "name": "stdout",
          "text": [
            "La cuota mensual del préstamo es: 898.09\n"
          ]
        }
      ]
    },
    {
      "cell_type": "markdown",
      "source": [
        "28. Escribe una función que determine si un número es un número de Armstrong (un número de n dígitos que es igual a la suma de sus dígitos elevados a la n)."
      ],
      "metadata": {
        "id": "cKcrb0vonk69"
      }
    },
    {
      "cell_type": "code",
      "source": [
        "def es_numero_armstrong(numero):\n",
        "    n = len(str(numero))\n",
        "    suma = sum(int(digit) ** n for digit in str(numero))\n",
        "    return suma == numero\n",
        "\n",
        "# Ejemplo de uso\n",
        "numero = 153\n",
        "if es_numero_armstrong(numero):\n",
        "    print(f\"{numero} es un número de Armstrong.\")\n",
        "else:\n",
        "    print(f\"{numero} no es un número de Armstrong.\")"
      ],
      "metadata": {
        "colab": {
          "base_uri": "https://localhost:8080/"
        },
        "id": "d0YxPRzZnm_c",
        "outputId": "f42b730a-d10f-4cf6-8a84-52af761885e4"
      },
      "execution_count": null,
      "outputs": [
        {
          "output_type": "stream",
          "name": "stdout",
          "text": [
            "153 es un número de Armstrong.\n"
          ]
        }
      ]
    },
    {
      "cell_type": "markdown",
      "source": [
        "29. Define un diccionario que almacene los símbolos de moneda y sus respectivos códigos. Escribe un programa que convierta una cantidad de dinero de una moneda a otra."
      ],
      "metadata": {
        "id": "iXq4bwV1npWa"
      }
    },
    {
      "cell_type": "code",
      "source": [
        "tasas_cambio = {\n",
        "    \"USD\": 1.0,\n",
        "    \"EUR\": 0.85,\n",
        "    \"JPY\": 110.5\n",
        "}\n",
        "\n",
        "monto = float(input(\"Ingrese la cantidad de dinero: \"))\n",
        "moneda_origen = input(\"Ingrese la moneda de origen (USD, EUR, JPY): \").upper()\n",
        "moneda_destino = input(\"Ingrese la moneda de destino (USD, EUR, JPY): \").upper()\n",
        "\n",
        "if moneda_origen in tasas_cambio and moneda_destino in tasas_cambio:\n",
        "    tasa_origen = tasas_cambio[moneda_origen]\n",
        "    tasa_destino = tasas_cambio[moneda_destino]\n",
        "\n",
        "    monto_convertido = monto * (tasa_destino / tasa_origen)\n",
        "\n",
        "    print(f\"{monto:.2f} {moneda_origen} equivale a {monto_convertido:.2f} {moneda_destino}\")\n",
        "else:\n",
        "    print(\"Moneda no válida.\")"
      ],
      "metadata": {
        "colab": {
          "base_uri": "https://localhost:8080/"
        },
        "id": "Bwh3TIvlnrIb",
        "outputId": "08562855-222b-430e-cff5-e8cb57aa9662"
      },
      "execution_count": null,
      "outputs": [
        {
          "output_type": "stream",
          "name": "stdout",
          "text": [
            "Ingrese la cantidad de dinero: 10000\n",
            "Ingrese la moneda de origen (USD, EUR, JPY): usd\n",
            "Ingrese la moneda de destino (USD, EUR, JPY): jpy\n",
            "10000.00 USD equivale a 1105000.00 JPY\n"
          ]
        }
      ]
    },
    {
      "cell_type": "markdown",
      "source": [
        "30. Crea una función que calcule la desviación estándar de una lista de números."
      ],
      "metadata": {
        "id": "X_eBkhw1nw8j"
      }
    },
    {
      "cell_type": "code",
      "source": [
        "import math\n",
        "\n",
        "def calcular_desviacion_estandar(lista):\n",
        "    media = sum(lista) / len(lista)\n",
        "    suma_cuadrados = sum((x - media) ** 2 for x in lista)\n",
        "    desviacion_estandar = math.sqrt(suma_cuadrados / len(lista))\n",
        "    return desviacion_estandar"
      ],
      "metadata": {
        "id": "fz5n4pLinywj"
      },
      "execution_count": null,
      "outputs": []
    }
  ]
}