{
  "nbformat": 4,
  "nbformat_minor": 0,
  "metadata": {
    "colab": {
      "provenance": []
    },
    "kernelspec": {
      "name": "python3",
      "display_name": "Python 3"
    },
    "language_info": {
      "name": "python"
    }
  },
  "cells": [
    {
      "cell_type": "markdown",
      "source": [
        "Taller 1\n",
        "Cree una funcion que sume dos numeros y divida la suma en un entero\n"
      ],
      "metadata": {
        "id": "_YZacwzYw9Br"
      }
    },
    {
      "cell_type": "code",
      "source": [
        "\n",
        "def sum_and_divide(num1, num2, divisor):\n",
        "  if type(num1) == int and type(num2) == int and type(divisor) == int:\n",
        "\n",
        "    suma = num1 + num2\n",
        "    if divisor!= 0:\n",
        "        print(suma/divisor)\n",
        "    else:\n",
        "          print(\"divisor debe ser diferente de 0\")\n",
        "  else:\n",
        "            print(f\"los datos ingresados deben ser enteros\")\n",
        "b\n",
        "\n",
        "\n",
        "\n",
        "\n",
        "\n"
      ],
      "metadata": {
        "id": "4nldFt_Q3WNe"
      },
      "execution_count": 19,
      "outputs": []
    },
    {
      "cell_type": "code",
      "source": [
        "sum_and_divide(3, 5, \"h\")"
      ],
      "metadata": {
        "colab": {
          "base_uri": "https://localhost:8080/"
        },
        "id": "XJCvKlG7CG95",
        "outputId": "20a4450d-63ef-42e3-89a8-8d9eb4f291f0"
      },
      "execution_count": 22,
      "outputs": [
        {
          "output_type": "stream",
          "name": "stdout",
          "text": [
            "los datos ingresados deben ser enteros\n"
          ]
        }
      ]
    },
    {
      "cell_type": "code",
      "source": [],
      "metadata": {
        "id": "nrkmVXKxCSJh"
      },
      "execution_count": null,
      "outputs": []
    }
  ]
}